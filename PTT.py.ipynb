{
 "cells": [
  {
   "cell_type": "code",
   "execution_count": 35,
   "id": "94b92601",
   "metadata": {},
   "outputs": [
    {
     "name": "stdout",
     "output_type": "stream",
     "text": [
      "[新聞] 女大生「可以睡旁邊但不能碰我」男同學凍未條硬上！這下慘了\n",
      "[閒聊] 看到早期的大尺度影片時 有什麼想法？\n",
      "[公告] 西斯板規 Ver 6.2.9\n",
      "Fw: [公告] 請使用者多加注意我國保護兒少的法令\n",
      "[公告] 2022 六月 西斯置底閒聊區\n"
     ]
    }
   ],
   "source": [
    "from bs4 import BeautifulSoup as bs\n",
    "import requests as req\n",
    "my_cookies = {\n",
    "    \"over18\": \"1\"\n",
    "}\n",
    "url='https://www.ptt.cc/bbs/sex/index.html'\n",
    "res=req.get(url,cookies=my_cookies)\n",
    "soup = bs(res.text, \"lxml\") \n",
    "#print(res.text)\n",
    "for i in soup.select('div.r-ent div.title a'):\n",
    "         print(i.get_text())"
   ]
  }
 ],
 "metadata": {
  "kernelspec": {
   "display_name": "Python 3 (ipykernel)",
   "language": "python",
   "name": "python3"
  },
  "language_info": {
   "codemirror_mode": {
    "name": "ipython",
    "version": 3
   },
   "file_extension": ".py",
   "mimetype": "text/x-python",
   "name": "python",
   "nbconvert_exporter": "python",
   "pygments_lexer": "ipython3",
   "version": "3.9.12"
  }
 },
 "nbformat": 4,
 "nbformat_minor": 5
}
