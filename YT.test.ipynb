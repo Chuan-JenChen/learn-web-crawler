{
 "cells": [
  {
   "cell_type": "code",
   "execution_count": 13,
   "metadata": {},
   "outputs": [],
   "source": [
    "from selenium import webdriver\n",
    "from selenium.webdriver.chrome.service import Service\n",
    "from webdriver_manager.chrome import ChromeDriverManager\n",
    "\n",
    "# 處理逾時例外的工具\n",
    "from selenium.common.exceptions import TimeoutException\n",
    "\n",
    "# 面對動態網頁，等待某個元素出現的工具，通常與 exptected_conditions 搭配\n",
    "from selenium.webdriver.support.ui import WebDriverWait\n",
    "\n",
    "# 搭配 WebDriverWait 使用，對元素狀態的一種期待條件，若條件發生，則等待結束，往下一行執行\n",
    "from selenium.webdriver.support import expected_conditions as EC\n",
    "\n",
    "# 期待元素出現要透過什麼方式指定，通常與 EC、WebDriverWait 一起使用\n",
    "from selenium.webdriver.common.by import By\n",
    "\n",
    "# 強制等待 (執行期間休息一下)\n",
    "from time import sleep\n",
    "\n",
    "# 整理 json 使用的工具\n",
    "import json\n",
    "\n",
    "# 執行 command 的時候用的\n",
    "import os\n",
    "\n",
    "# 子處理程序，用來取代 os.system 的功能\n",
    "import subprocess"
   ]
  },
  {
   "cell_type": "code",
   "execution_count": 14,
   "metadata": {},
   "outputs": [
    {
     "name": "stdout",
     "output_type": "stream",
     "text": [
      "\n"
     ]
    },
    {
     "name": "stderr",
     "output_type": "stream",
     "text": [
      "[WDM] - ====== WebDriver manager ======\n",
      "[WDM] - Current google-chrome version is 103.0.5060\n",
      "[WDM] - Get LATEST chromedriver version for 103.0.5060 google-chrome\n",
      "[WDM] - Driver [C:\\Users\\j8003\\.wdm\\drivers\\chromedriver\\win32\\103.0.5060.53\\chromedriver.exe] found in cache\n"
     ]
    }
   ],
   "source": [
    "my_options= webdriver.ChromeOptions()\n",
    "my_options.add_argument(\"--start-maximized\")         \n",
    "my_options.add_argument(\"--incognito\")               \n",
    "my_options.add_argument(\"--disable-popup-blocking\") \n",
    "my_options.add_argument(\"--disable-notifications\") \n",
    "my_options.add_argument(\"--lang=zh-TW\")\n",
    "\n",
    "# 自動搜尋chrome的最新版本，不是會自動更新\n",
    "driver = webdriver.Chrome(\n",
    "    options=my_options,\n",
    "    service=Service(ChromeDriverManager().install())\n",
    ")\n",
    "\n",
    "folderPath='youtube'\n",
    "if not os.path.exists(folderPath):\n",
    "    os.makedirs(folderPath)\n",
    "\n",
    "listDate=[]\n"
   ]
  },
  {
   "cell_type": "code",
   "execution_count": 15,
   "metadata": {},
   "outputs": [],
   "source": [
    "def visit():\n",
    "    driver.get('https://www.youtube.com/')\n",
    "def search():\n",
    "    searchInput = driver.find_element(By.CSS_SELECTOR,'input#search')\n",
    "    searchInput.send_keys('18')\n",
    "    searchInput.submit()\n",
    "    sleep(3)\n",
    "def filter():\n",
    "    WebDriverWait(driver,10).until(\n",
    "        EC.presence_of_element_located(\n",
    "            (By.CSS_SELECTOR,'yt-formatted-string#text')\n",
    "        )\n",
    "    )\n",
    "def filter_item():\n",
    "    driver.find_elements(\n",
    "            By.CSS_SELECTOR, \n",
    "            \"yt-formatted-string.style-scope.ytd-search-filter-renderer\"\n",
    "        ).click()\n",
    "    "
   ]
  },
  {
   "cell_type": "code",
   "execution_count": 16,
   "metadata": {},
   "outputs": [
    {
     "ename": "IndexError",
     "evalue": "list index out of range",
     "output_type": "error",
     "traceback": [
      "\u001b[1;31m---------------------------------------------------------------------------\u001b[0m",
      "\u001b[1;31mIndexError\u001b[0m                                Traceback (most recent call last)",
      "\u001b[1;32mc:\\Users\\j8003\\python_web_scraping-master\\YT.test.ipynb Cell 4'\u001b[0m in \u001b[0;36m<cell line: 1>\u001b[1;34m()\u001b[0m\n\u001b[0;32m      <a href='vscode-notebook-cell:/c%3A/Users/j8003/python_web_scraping-master/YT.test.ipynb#ch0000003?line=2'>3</a>\u001b[0m search()\n\u001b[0;32m      <a href='vscode-notebook-cell:/c%3A/Users/j8003/python_web_scraping-master/YT.test.ipynb#ch0000003?line=3'>4</a>\u001b[0m \u001b[39mfilter\u001b[39m()\n\u001b[1;32m----> <a href='vscode-notebook-cell:/c%3A/Users/j8003/python_web_scraping-master/YT.test.ipynb#ch0000003?line=4'>5</a>\u001b[0m filter_item()\n",
      "\u001b[1;32mc:\\Users\\j8003\\python_web_scraping-master\\YT.test.ipynb Cell 3'\u001b[0m in \u001b[0;36mfilter_item\u001b[1;34m()\u001b[0m\n\u001b[0;32m     <a href='vscode-notebook-cell:/c%3A/Users/j8003/python_web_scraping-master/YT.test.ipynb#ch0000002?line=13'>14</a>\u001b[0m \u001b[39mdef\u001b[39;00m \u001b[39mfilter_item\u001b[39m():\n\u001b[1;32m---> <a href='vscode-notebook-cell:/c%3A/Users/j8003/python_web_scraping-master/YT.test.ipynb#ch0000002?line=14'>15</a>\u001b[0m     driver\u001b[39m.\u001b[39;49mfind_elements(\n\u001b[0;32m     <a href='vscode-notebook-cell:/c%3A/Users/j8003/python_web_scraping-master/YT.test.ipynb#ch0000002?line=15'>16</a>\u001b[0m             By\u001b[39m.\u001b[39;49mCSS_SELECTOR, \n\u001b[0;32m     <a href='vscode-notebook-cell:/c%3A/Users/j8003/python_web_scraping-master/YT.test.ipynb#ch0000002?line=16'>17</a>\u001b[0m             \u001b[39m\"\u001b[39;49m\u001b[39myt-formatted-string.style-scope.ytd-search-filter-renderer\u001b[39;49m\u001b[39m\"\u001b[39;49m\n\u001b[0;32m     <a href='vscode-notebook-cell:/c%3A/Users/j8003/python_web_scraping-master/YT.test.ipynb#ch0000002?line=17'>18</a>\u001b[0m         )[\u001b[39m9\u001b[39;49m]\u001b[39m.\u001b[39mclick()\n",
      "\u001b[1;31mIndexError\u001b[0m: list index out of range"
     ]
    }
   ],
   "source": [
    "if __name__== '__main__':\n",
    "    visit()\n",
    "    search()\n",
    "    filter()\n",
    "    filter_item()"
   ]
  }
 ],
 "metadata": {
  "kernelspec": {
   "display_name": "Python 3.9.12 ('base')",
   "language": "python",
   "name": "python3"
  },
  "language_info": {
   "codemirror_mode": {
    "name": "ipython",
    "version": 3
   },
   "file_extension": ".py",
   "mimetype": "text/x-python",
   "name": "python",
   "nbconvert_exporter": "python",
   "pygments_lexer": "ipython3",
   "version": "3.9.12"
  },
  "orig_nbformat": 4,
  "vscode": {
   "interpreter": {
    "hash": "06f7e3047e2e3db8a299497334c0b4daa5adaa570f351f4abd94e979a4fd6932"
   }
  }
 },
 "nbformat": 4,
 "nbformat_minor": 2
}
