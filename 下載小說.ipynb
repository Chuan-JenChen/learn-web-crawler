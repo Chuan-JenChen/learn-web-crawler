{
 "cells": [
  {
   "cell_type": "code",
   "execution_count": null,
   "metadata": {},
   "outputs": [],
   "source": [
    "import requests as req\n",
    "import os, json \n",
    "from bs4 import BeautifulSoup as bs\n",
    "\n",
    "from fake_useragent import UserAgent\n",
    "ua = UserAgent(cache=True)\n",
    "\n",
    "folderPath = 'comic_book'\n",
    "if not os.path.exists(folderPath):\n",
    "    os.makedirs(folderPath)\n",
    "\n",
    "my_headers = {\n",
    "    'user-agent': ua.random\n",
    "}\n",
    "\n",
    "\n",
    "url= 'https://big5.mfxsydw.com/book/1449.html'\n",
    "r=req.get(url,headers=my_headers)\n",
    "soup = bs(r.text,'lxml')\n",
    "print(soup.select('a'))"
   ]
  },
  {
   "cell_type": "code",
   "execution_count": null,
   "metadata": {},
   "outputs": [],
   "source": [
    "list1=soup.select('div.box ul.list li.c3 a')\n",
    "list2=[]\n",
    "for i in list1:\n",
    "    #print('https://big5.mfxsydw.com'+ i['href'])\n",
    "    #print (i.get_text())   \n",
    "    list2.append('https://big5.mfxsydw.com'+ i['href'])\n",
    "print(list2)"
   ]
  },
  {
   "cell_type": "code",
   "execution_count": null,
   "metadata": {},
   "outputs": [],
   "source": [
    "list3=[]\n",
    "for j in list2:\n",
    "    r=req.get(j,headers=my_headers)\n",
    "    r.encoding = 'UTF-8'\n",
    "    soup = bs(r.text,'lxml')\n",
    "    par = soup.select('#content')\n",
    "    for i in par:\n",
    "        print(i.get_text())\n",
    "        list3.append(i.get_text())"
   ]
  },
  {
   "cell_type": "code",
   "execution_count": null,
   "metadata": {},
   "outputs": [],
   "source": [
    "for  obj in list3:\n",
    "    os.system(f\"curl {obj['staticUrl']} -o {folderPath}/{obj['id']}.png\")\n",
    "    print(f\" {obj['id']},  {obj['staticUrl']}\")"
   ]
  }
 ],
 "metadata": {
  "kernelspec": {
   "display_name": "Python 3.9.12 ('base')",
   "language": "python",
   "name": "python3"
  },
  "language_info": {
   "codemirror_mode": {
    "name": "ipython",
    "version": 3
   },
   "file_extension": ".py",
   "mimetype": "text/x-python",
   "name": "python",
   "nbconvert_exporter": "python",
   "pygments_lexer": "ipython3",
   "version": "3.9.12"
  },
  "orig_nbformat": 4,
  "vscode": {
   "interpreter": {
    "hash": "ae21a3e56bb7b7ae0242965a996818efe80fa944ec8bb60257b7c2c84d3358e6"
   }
  }
 },
 "nbformat": 4,
 "nbformat_minor": 2
}
